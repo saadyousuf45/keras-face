{
 "cells": [
  {
   "cell_type": "code",
   "execution_count": 8,
   "metadata": {},
   "outputs": [
    {
     "name": "stdout",
     "output_type": "stream",
     "text": [
      "('Total Params:', 3743280)\n",
      "It's younes\n",
      "camera_0.jpg is yournes\n",
      "It's not kian\n",
      "camera_0.jpg is not yournes\n",
      "it's younes, the distance is 0.6710074\n",
      "camera_0.jpg is younes\n"
     ]
    }
   ],
   "source": [
    "from keras_face.library.face_net import FaceNet\n",
    "\n",
    "def main():\n",
    "    model_dir_path = '/home/saadi/chen0040-keras-face/demo/models'\n",
    "    image_dir_path = \"/home/saadi/chen0040-keras-face/demo/data/images\"\n",
    "\n",
    "    fnet = FaceNet()\n",
    "    fnet.load_model(model_dir_path)\n",
    "\n",
    "    database = {}\n",
    "    database[\"danielle\"] = fnet.img_to_encoding(image_dir_path + \"/danielle.png\")\n",
    "    database[\"younes\"] = fnet.img_to_encoding(image_dir_path + \"/younes.jpg\")\n",
    "    database[\"tian\"] = fnet.img_to_encoding(image_dir_path + \"/tian.jpg\")\n",
    "    database[\"andrew\"] = fnet.img_to_encoding(image_dir_path + \"/andrew.jpg\")\n",
    "    database[\"kian\"] = fnet.img_to_encoding(image_dir_path + \"/kian.jpg\")\n",
    "    database[\"dan\"] = fnet.img_to_encoding(image_dir_path + \"/dan.jpg\")\n",
    "    database[\"sebastiano\"] = fnet.img_to_encoding(image_dir_path + \"/sebastiano.jpg\")\n",
    "    database[\"bertrand\"] = fnet.img_to_encoding(image_dir_path + \"/bertrand.jpg\")\n",
    "    database[\"kevin\"] = fnet.img_to_encoding(image_dir_path + \"/kevin.jpg\")\n",
    "    database[\"felix\"] = fnet.img_to_encoding(image_dir_path + \"/felix.jpg\")\n",
    "    database[\"benoit\"] = fnet.img_to_encoding(image_dir_path + \"/benoit.jpg\")\n",
    "    database[\"arnaud\"] = fnet.img_to_encoding(image_dir_path + \"/arnaud.jpg\")\n",
    "\n",
    "    # verifies whether a particular camera image is a person in the image database\n",
    "    dist, is_valid = fnet.verify(image_dir_path + \"/camera_0.jpg\", \"younes\", database)\n",
    "    print('camera_0.jpg is' + (' ' if is_valid else ' not ') + 'yournes')\n",
    "    dist, is_valid = fnet.verify(image_dir_path + \"/camera_2.jpg\", \"kian\", database)\n",
    "    print('camera_0.jpg is' + (' ' if is_valid else ' not ') + 'yournes')\n",
    "    \n",
    "    # whether a particular camera image is which person in the image database (or not at all)\n",
    "    dist, identity = fnet.who_is_it(image_dir_path + \"/camera_0.jpg\", database)\n",
    "    if identity is None:\n",
    "        print('camera_0.jpg is not found in database')\n",
    "    else:\n",
    "        print('camera_0.jpg is ' + str(identity))\n",
    "\n",
    "\n",
    "if __name__ == '__main__':\n",
    "    main()"
   ]
  },
  {
   "cell_type": "code",
   "execution_count": null,
   "metadata": {},
   "outputs": [],
   "source": []
  }
 ],
 "metadata": {
  "kernelspec": {
   "display_name": "Python 2",
   "language": "python",
   "name": "python2"
  },
  "language_info": {
   "codemirror_mode": {
    "name": "ipython",
    "version": 2
   },
   "file_extension": ".py",
   "mimetype": "text/x-python",
   "name": "python",
   "nbconvert_exporter": "python",
   "pygments_lexer": "ipython2",
   "version": "2.7.12"
  }
 },
 "nbformat": 4,
 "nbformat_minor": 2
}
